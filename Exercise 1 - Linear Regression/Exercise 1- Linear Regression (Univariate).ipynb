{
 "cells": [
  {
   "cell_type": "markdown",
   "metadata": {},
   "source": [
    "# Exercise1 - Linear Regression\n",
    "\n",
    "### Scenario: Profits for Food Truck\n",
    "Suppose you are the CEO of a restaurant franchise and are considering different cities for opening a new outlet. The chain already has trucks in various cities and you have data for profits and populations from the cities.You would like to use this data to help you select which city to expand to next.\n",
    "\n",
    "The first column of the training data is the population of a city and the second column is the profit of a food truck in that city.\n",
    "\n",
    "Here, we will implement linear regression with one variable(Population) to predict profits for a food truck.\n",
    "\n"
   ]
  },
  {
   "cell_type": "code",
   "execution_count": 1,
   "metadata": {},
   "outputs": [],
   "source": [
    "#Import libraries\n",
    "import os\n",
    "import numpy as np\n",
    "import pandas as pd\n",
    "import matplotlib.pyplot as plt\n",
    "\n",
    "#This is a magic command. It will display the plotting image directly below the code cell\n",
    "%matplotlib inline  "
   ]
  },
  {
   "cell_type": "code",
   "execution_count": 2,
   "metadata": {},
   "outputs": [
    {
     "data": {
      "text/html": [
       "<div>\n",
       "<style scoped>\n",
       "    .dataframe tbody tr th:only-of-type {\n",
       "        vertical-align: middle;\n",
       "    }\n",
       "\n",
       "    .dataframe tbody tr th {\n",
       "        vertical-align: top;\n",
       "    }\n",
       "\n",
       "    .dataframe thead th {\n",
       "        text-align: right;\n",
       "    }\n",
       "</style>\n",
       "<table border=\"1\" class=\"dataframe\">\n",
       "  <thead>\n",
       "    <tr style=\"text-align: right;\">\n",
       "      <th></th>\n",
       "      <th>Population</th>\n",
       "      <th>Profit</th>\n",
       "    </tr>\n",
       "  </thead>\n",
       "  <tbody>\n",
       "    <tr>\n",
       "      <th>0</th>\n",
       "      <td>6.1101</td>\n",
       "      <td>17.5920</td>\n",
       "    </tr>\n",
       "    <tr>\n",
       "      <th>1</th>\n",
       "      <td>5.5277</td>\n",
       "      <td>9.1302</td>\n",
       "    </tr>\n",
       "    <tr>\n",
       "      <th>2</th>\n",
       "      <td>8.5186</td>\n",
       "      <td>13.6620</td>\n",
       "    </tr>\n",
       "    <tr>\n",
       "      <th>3</th>\n",
       "      <td>7.0032</td>\n",
       "      <td>11.8540</td>\n",
       "    </tr>\n",
       "    <tr>\n",
       "      <th>4</th>\n",
       "      <td>5.8598</td>\n",
       "      <td>6.8233</td>\n",
       "    </tr>\n",
       "  </tbody>\n",
       "</table>\n",
       "</div>"
      ],
      "text/plain": [
       "   Population   Profit\n",
       "0      6.1101  17.5920\n",
       "1      5.5277   9.1302\n",
       "2      8.5186  13.6620\n",
       "3      7.0032  11.8540\n",
       "4      5.8598   6.8233"
      ]
     },
     "execution_count": 2,
     "metadata": {},
     "output_type": "execute_result"
    }
   ],
   "source": [
    "dataFilePath = os.getcwd() + '/Data/ex1data1.txt'\n",
    "data = pd.read_csv(dataFilePath, names = ['Population','Profit'])\n",
    "\n",
    "data.head() #by default displays first 5 rows. head(n) displays first 'n' rows"
   ]
  },
  {
   "cell_type": "markdown",
   "metadata": {},
   "source": [
    "**It is often useful to understand the data by visualizing it.**"
   ]
  },
  {
   "cell_type": "code",
   "execution_count": 3,
   "metadata": {
    "scrolled": false
   },
   "outputs": [
    {
     "data": {
      "text/plain": [
       "Text(0.5,1,'Scatter plot of training data')"
      ]
     },
     "execution_count": 3,
     "metadata": {},
     "output_type": "execute_result"
    },
    {
     "data": {
      "image/png": "[encoded data removed]",
      "text/plain": [
       "<Figure size 864x576 with 1 Axes>"
      ]
     },
     "metadata": {},
     "output_type": "display_data"
    }
   ],
   "source": [
    "# 2 methods of plotting the below graph.\n",
    "\n",
    "#Method 1\n",
    "#trainingData.plot(kind = 'scatter', x = 'Population', y = 'Profit',color= 'r',marker= 'x',label= 'Training Data', figsize = (12,8))\n",
    "\n",
    "#Method 2\n",
    "figure,axes = plt.subplots(figsize= (12, 8))  \n",
    "axes.scatter(data.Population, data.Profit,c = 'r', marker= 'x', label = 'Training Data')\n",
    "\n",
    "axes.grid(True) #Displays the grid format in the plot\n",
    "axes.legend() #Displays the legend\n",
    "\n",
    "axes.set_xlabel('Population of City in 10,000s') \n",
    "axes.set_ylabel('Profit in $10,000s')\n",
    "axes.set_title('Scatter plot of training data')"
   ]
  },
  {
   "cell_type": "markdown",
   "metadata": {},
   "source": [
    "\n",
    "## Cost Function\n",
    "$ J(\\Theta ) = \\frac{1}{2m}\\sum_{i=1}^{m} (h_{\\Theta}(x^{(i)}) - y^{(i)})^{2} $\n",
    "\n",
    "\n",
    "$ h_{\\Theta }\\left (X \\right ) = \\Theta ^{T}X = \\Theta _{0} + \\Theta _{1}x_{1} $"
   ]
  },
  {
   "cell_type": "code",
   "execution_count": 4,
   "metadata": {},
   "outputs": [],
   "source": [
    "def computeCost(X, y, theta):\n",
    "    m = y.size\n",
    "    h_theta_x = X * theta.T \n",
    "    squared_error = np.square(h_theta_x - y)\n",
    "    J_theta = (1/ (2*m)) * np.sum(squared_error)\n",
    "    return J_theta    "
   ]
  },
  {
   "cell_type": "markdown",
   "metadata": {},
   "source": [
    "**We add a column of ones to the training data so that we can use a Vectorized solution in computing Cost Function and Gradient Descent.**\n",
    "\n",
    "$ h_{\\Theta }\\left (X \\right ) = \\Theta ^{T}X = \\Theta _{0}x_{0} + \\Theta _{1}x_{1} $"
   ]
  },
  {
   "cell_type": "code",
   "execution_count": 5,
   "metadata": {},
   "outputs": [
    {
     "data": {
      "text/html": [
       "<div>\n",
       "<style scoped>\n",
       "    .dataframe tbody tr th:only-of-type {\n",
       "        vertical-align: middle;\n",
       "    }\n",
       "\n",
       "    .dataframe tbody tr th {\n",
       "        vertical-align: top;\n",
       "    }\n",
       "\n",
       "    .dataframe thead th {\n",
       "        text-align: right;\n",
       "    }\n",
       "</style>\n",
       "<table border=\"1\" class=\"dataframe\">\n",
       "  <thead>\n",
       "    <tr style=\"text-align: right;\">\n",
       "      <th></th>\n",
       "      <th>Ones</th>\n",
       "      <th>Population</th>\n",
       "    </tr>\n",
       "  </thead>\n",
       "  <tbody>\n",
       "    <tr>\n",
       "      <th>0</th>\n",
       "      <td>1</td>\n",
       "      <td>6.1101</td>\n",
       "    </tr>\n",
       "    <tr>\n",
       "      <th>1</th>\n",
       "      <td>1</td>\n",
       "      <td>5.5277</td>\n",
       "    </tr>\n",
       "    <tr>\n",
       "      <th>2</th>\n",
       "      <td>1</td>\n",
       "      <td>8.5186</td>\n",
       "    </tr>\n",
       "    <tr>\n",
       "      <th>3</th>\n",
       "      <td>1</td>\n",
       "      <td>7.0032</td>\n",
       "    </tr>\n",
       "    <tr>\n",
       "      <th>4</th>\n",
       "      <td>1</td>\n",
       "      <td>5.8598</td>\n",
       "    </tr>\n",
       "  </tbody>\n",
       "</table>\n",
       "</div>"
      ],
      "text/plain": [
       "   Ones  Population\n",
       "0     1      6.1101\n",
       "1     1      5.5277\n",
       "2     1      8.5186\n",
       "3     1      7.0032\n",
       "4     1      5.8598"
      ]
     },
     "execution_count": 5,
     "metadata": {},
     "output_type": "execute_result"
    }
   ],
   "source": [
    "data.insert(0, 'Ones',1)\n",
    "cols = data.shape[1]\n",
    "\n",
    "X = data.iloc[:, 0:cols-1]\n",
    "X.head()"
   ]
  },
  {
   "cell_type": "code",
   "execution_count": 6,
   "metadata": {},
   "outputs": [
    {
     "data": {
      "text/html": [
       "<div>\n",
       "<style scoped>\n",
       "    .dataframe tbody tr th:only-of-type {\n",
       "        vertical-align: middle;\n",
       "    }\n",
       "\n",
       "    .dataframe tbody tr th {\n",
       "        vertical-align: top;\n",
       "    }\n",
       "\n",
       "    .dataframe thead th {\n",
       "        text-align: right;\n",
       "    }\n",
       "</style>\n",
       "<table border=\"1\" class=\"dataframe\">\n",
       "  <thead>\n",
       "    <tr style=\"text-align: right;\">\n",
       "      <th></th>\n",
       "      <th>Profit</th>\n",
       "    </tr>\n",
       "  </thead>\n",
       "  <tbody>\n",
       "    <tr>\n",
       "      <th>0</th>\n",
       "      <td>17.5920</td>\n",
       "    </tr>\n",
       "    <tr>\n",
       "      <th>1</th>\n",
       "      <td>9.1302</td>\n",
       "    </tr>\n",
       "    <tr>\n",
       "      <th>2</th>\n",
       "      <td>13.6620</td>\n",
       "    </tr>\n",
       "    <tr>\n",
       "      <th>3</th>\n",
       "      <td>11.8540</td>\n",
       "    </tr>\n",
       "    <tr>\n",
       "      <th>4</th>\n",
       "      <td>6.8233</td>\n",
       "    </tr>\n",
       "  </tbody>\n",
       "</table>\n",
       "</div>"
      ],
      "text/plain": [
       "    Profit\n",
       "0  17.5920\n",
       "1   9.1302\n",
       "2  13.6620\n",
       "3  11.8540\n",
       "4   6.8233"
      ]
     },
     "execution_count": 6,
     "metadata": {},
     "output_type": "execute_result"
    }
   ],
   "source": [
    "y = data.iloc[:, cols-1:cols]\n",
    "y.head()"
   ]
  },
  {
   "cell_type": "code",
   "execution_count": 7,
   "metadata": {},
   "outputs": [],
   "source": [
    "X = np.matrix(X.values)\n",
    "y = np.matrix(y.values)\n",
    "theta = np.matrix([0,0])"
   ]
  },
  {
   "cell_type": "code",
   "execution_count": 8,
   "metadata": {},
   "outputs": [
    {
     "data": {
      "text/plain": [
       "((97, 2), (97, 1), (1, 2))"
      ]
     },
     "execution_count": 8,
     "metadata": {},
     "output_type": "execute_result"
    }
   ],
   "source": [
    "X.shape, y.shape, theta.shape"
   ]
  },
  {
   "cell_type": "markdown",
   "metadata": {},
   "source": [
    "**Cost of the solution with $\\Theta$ initialised to zeros.**"
   ]
  },
  {
   "cell_type": "code",
   "execution_count": 9,
   "metadata": {},
   "outputs": [
    {
     "data": {
      "text/plain": [
       "32.072733877455676"
      ]
     },
     "execution_count": 9,
     "metadata": {},
     "output_type": "execute_result"
    }
   ],
   "source": [
    "computeCost(X, y, theta)"
   ]
  },
  {
   "cell_type": "markdown",
   "metadata": {},
   "source": [
    "## Gradient Decent\n",
    "\n",
    "$\\Theta_{j} := \\Theta_{j} - \\alpha \\frac{1}{m}\\sum_{i=1}^{m} (h_{\\Theta}(x^{(i)}) - y^{(i)})x_{j}^{(i)}$\n",
    "  (simultaneous update of $\\Theta_{j}$ for all j)\n",
    "\n",
    "With each step of gradient descent, the parameters $\\Theta_{j}$ comes closer to the optimal values that will achieve the lowest cost $J(\\Theta)$."
   ]
  },
  {
   "cell_type": "code",
   "execution_count": 10,
   "metadata": {},
   "outputs": [],
   "source": [
    "def gradientDescent(X, y, theta, alpha= 0.01, num_iters= 1500):\n",
    "    m = y.size\n",
    "    J_theta_history = np.zeros(num_iters)\n",
    "    temp = np.matrix(np.zeros(theta.shape))\n",
    "    for iter in range(num_iters):\n",
    "        h_theta_x = X * theta.T\n",
    "        error = h_theta_x - y\n",
    "        for i in range(theta.size):\n",
    "            temp[:,i] = theta[:,i] - (alpha/m) * np.sum(np.multiply(error, X[:,i]))\n",
    "        \n",
    "        theta = temp\n",
    "        J_theta_history[iter] = computeCost(X,y, theta)\n",
    "    return theta, J_theta_history\n",
    "        "
   ]
  },
  {
   "cell_type": "markdown",
   "metadata": {},
   "source": [
    "**We can check if the gradient descent is working fine by looking at the values of $J(\\Theta)$ and check that it is decreasing with each step. $J(\\Theta)$ should never increase and it should converge to a steady value by the end of the algorithm.**"
   ]
  },
  {
   "cell_type": "code",
   "execution_count": 11,
   "metadata": {},
   "outputs": [
    {
     "name": "stdout",
     "output_type": "stream",
     "text": [
      "Minimised theta:  [[-3.63029144  1.16636235]]\n"
     ]
    },
    {
     "data": {
      "text/plain": [
       "Text(0.5,1,'Convergence of the Cost Function ( $J(\\\\Theta)$ )')"
      ]
     },
     "execution_count": 11,
     "metadata": {},
     "output_type": "execute_result"
    },
    {
     "data": {
      "image/png": "[encoded data removed]",
      "text/plain": [
       "<Figure size 432x288 with 1 Axes>"
      ]
     },
     "metadata": {},
     "output_type": "display_data"
    }
   ],
   "source": [
    "minimised_theta , J_theta = gradientDescent(X, y, theta)\n",
    "print('Minimised theta: ',minimised_theta.ravel())\n",
    "\n",
    "plt.plot(J_theta)\n",
    "plt.grid(True)\n",
    "\n",
    "plt.ylabel('$J(\\Theta)$')\n",
    "plt.xlabel('Iterations');\n",
    "plt.title('Convergence of the Cost Function ( $J(\\Theta)$ )')"
   ]
  },
  {
   "cell_type": "code",
   "execution_count": 12,
   "metadata": {},
   "outputs": [
    {
     "data": {
      "text/plain": [
       "Text(0.5,1,'Predicted Profit vs. Population Size')"
      ]
     },
     "execution_count": 12,
     "metadata": {},
     "output_type": "execute_result"
    },
    {
     "data": {
      "image/png": "[encoded data removed]",
      "text/plain": [
       "<Figure size 720x576 with 1 Axes>"
      ]
     },
     "metadata": {},
     "output_type": "display_data"
    }
   ],
   "source": [
    "X_data =  data.Population\n",
    "hypothesis = minimised_theta[0, 0] + (minimised_theta[0, 1] * X_data)\n",
    "\n",
    "fig, ax = plt.subplots(figsize=(10,8))\n",
    "\n",
    "ax.plot(X_data, hypothesis, 'b', label='Prediction')\n",
    "ax.scatter(data.Population, data.Profit, color= 'r', marker= 'x',label='Traning Data')\n",
    "\n",
    "ax.legend(loc=2)\n",
    "ax.grid(True)\n",
    "\n",
    "ax.set_xlabel('Population of City in 10,000s')\n",
    "ax.set_ylabel('Profit in $10,000s')\n",
    "ax.set_title('Predicted Profit vs. Population Size')\n"
   ]
  },
  {
   "cell_type": "markdown",
   "metadata": {},
   "source": [
    "## Linear Regression using Scikit- learn"
   ]
  },
  {
   "cell_type": "code",
   "execution_count": 13,
   "metadata": {},
   "outputs": [
    {
     "data": {
      "text/plain": [
       "LinearRegression(copy_X=True, fit_intercept=True, n_jobs=1, normalize=False)"
      ]
     },
     "execution_count": 13,
     "metadata": {},
     "output_type": "execute_result"
    }
   ],
   "source": [
    "from sklearn import linear_model\n",
    "\n",
    "regr = linear_model.LinearRegression()\n",
    "    \n",
    "regr.fit(X[:,1], y) # Train the model using the training sets"
   ]
  },
  {
   "cell_type": "markdown",
   "metadata": {},
   "source": [
    "**Comparing the results of our implementation with the scikit-learn **"
   ]
  },
  {
   "cell_type": "code",
   "execution_count": 16,
   "metadata": {},
   "outputs": [
    {
     "name": "stdout",
     "output_type": "stream",
     "text": [
      "Prediction of profit for a city with population of 47000\n",
      "Our implementation: $ 18516.11607172875\n",
      "      Scikit-learn: $ 17114.77249379241\n"
     ]
    }
   ],
   "source": [
    "# Prediction of profit for a city with population of 47000\n",
    "# hypothesis = minimised_theta[0, 0] + (minimised_theta[0, 1] * X_data)\n",
    "\n",
    "print('Prediction of profit for a city with population of 47000')\n",
    "our_prediction = minimised_theta[0, 0] + (minimised_theta[0, 1] * 4.7)\n",
    "print('Our implementation: $', our_prediction*10000)\n",
    "sci_prediction = regr.predict(4.7)\n",
    "print('      Scikit-learn: $', sci_prediction[0][0]*10000)"
   ]
  },
  {
   "cell_type": "code",
   "execution_count": 15,
   "metadata": {},
   "outputs": [
    {
     "name": "stdout",
     "output_type": "stream",
     "text": [
      "Method1: $ [[17114.77249379]]\n",
      "Method2: $ [[17114.77249379]]\n"
     ]
    }
   ],
   "source": [
    "# 2 methods of predicting the results using scikit-learn\n",
    "#Method 1\n",
    "prediction1 = regr.predict(4.7)\n",
    "#Method 2\n",
    "prediction2 = regr.intercept_+ regr.coef_* 4.7\n",
    "print('Method1: $', prediction1*10000)\n",
    "print('Method2: $', prediction2*10000)"
   ]
  }
 ],
 "metadata": {
  "kernelspec": {
   "display_name": "Python 3",
   "language": "python",
   "name": "python3"
  },
  "language_info": {
   "codemirror_mode": {
    "name": "ipython",
    "version": 3
   },
   "file_extension": ".py",
   "mimetype": "text/x-python",
   "name": "python",
   "nbconvert_exporter": "python",
   "pygments_lexer": "ipython3",
   "version": "3.6.5"
  }
 },
 "nbformat": 4,
 "nbformat_minor": 2
}
