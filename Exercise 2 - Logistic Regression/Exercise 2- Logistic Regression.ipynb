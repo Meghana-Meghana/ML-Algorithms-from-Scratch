{
 "cells": [
  {
   "cell_type": "markdown",
   "metadata": {},
   "source": [
    "# Exercise 2- Logistic Regression\n",
    "\n",
    "### Scenario: Admission into a university.\n",
    "Suppose that you are the administrator of a university department and you want to determine each applicant’s chance of admission based on their results  on  two  exams.   You  have  historical  data  from  previous  applicants that you can use as a training set for logistic regression.  \n",
    "\n",
    "For each training example, you have the applicant’s scores on two exams and the admissions decision.\n",
    "\n",
    "Here, we will build a classification model that estimates an applicant’s probability of admission based the scores from those two exams.\n"
   ]
  },
  {
   "cell_type": "code",
   "execution_count": 1,
   "metadata": {},
   "outputs": [],
   "source": [
    "#Import libraries\n",
    "import os\n",
    "import numpy as np\n",
    "import pandas as pd\n",
    "import matplotlib.pyplot as plt\n",
    "\n",
    "#This is a magic command. It will display the plotting image directly below the code cell\n",
    "%matplotlib inline  "
   ]
  },
  {
   "cell_type": "code",
   "execution_count": 2,
   "metadata": {},
   "outputs": [
    {
     "data": {
      "text/html": [
       "<div>\n",
       "<style scoped>\n",
       "    .dataframe tbody tr th:only-of-type {\n",
       "        vertical-align: middle;\n",
       "    }\n",
       "\n",
       "    .dataframe tbody tr th {\n",
       "        vertical-align: top;\n",
       "    }\n",
       "\n",
       "    .dataframe thead th {\n",
       "        text-align: right;\n",
       "    }\n",
       "</style>\n",
       "<table border=\"1\" class=\"dataframe\">\n",
       "  <thead>\n",
       "    <tr style=\"text-align: right;\">\n",
       "      <th></th>\n",
       "      <th>Exam1</th>\n",
       "      <th>Exam2</th>\n",
       "      <th>Admission</th>\n",
       "    </tr>\n",
       "  </thead>\n",
       "  <tbody>\n",
       "    <tr>\n",
       "      <th>0</th>\n",
       "      <td>34.623660</td>\n",
       "      <td>78.024693</td>\n",
       "      <td>0</td>\n",
       "    </tr>\n",
       "    <tr>\n",
       "      <th>1</th>\n",
       "      <td>30.286711</td>\n",
       "      <td>43.894998</td>\n",
       "      <td>0</td>\n",
       "    </tr>\n",
       "    <tr>\n",
       "      <th>2</th>\n",
       "      <td>35.847409</td>\n",
       "      <td>72.902198</td>\n",
       "      <td>0</td>\n",
       "    </tr>\n",
       "    <tr>\n",
       "      <th>3</th>\n",
       "      <td>60.182599</td>\n",
       "      <td>86.308552</td>\n",
       "      <td>1</td>\n",
       "    </tr>\n",
       "    <tr>\n",
       "      <th>4</th>\n",
       "      <td>79.032736</td>\n",
       "      <td>75.344376</td>\n",
       "      <td>1</td>\n",
       "    </tr>\n",
       "  </tbody>\n",
       "</table>\n",
       "</div>"
      ],
      "text/plain": [
       "       Exam1      Exam2  Admission\n",
       "0  34.623660  78.024693          0\n",
       "1  30.286711  43.894998          0\n",
       "2  35.847409  72.902198          0\n",
       "3  60.182599  86.308552          1\n",
       "4  79.032736  75.344376          1"
      ]
     },
     "execution_count": 2,
     "metadata": {},
     "output_type": "execute_result"
    }
   ],
   "source": [
    "dataFilePath = os.getcwd() + '/Data/ex2data1.txt'\n",
    "data = pd.read_csv(dataFilePath, names = ['Exam1','Exam2', 'Admission'])\n",
    "\n",
    "data.head() #by default displays first 5 rows. head(n) displays first 'n' rows"
   ]
  },
  {
   "cell_type": "code",
   "execution_count": 3,
   "metadata": {},
   "outputs": [
    {
     "name": "stdout",
     "output_type": "stream",
     "text": [
      "       Exam1      Exam2  Admission\n",
      "3  60.182599  86.308552          1\n",
      "4  79.032736  75.344376          1\n",
      "6  61.106665  96.511426          1\n",
      "7  75.024746  46.554014          1\n",
      "8  76.098787  87.420570          1\n",
      "******************************************************\n",
      "        Exam1      Exam2  Admission\n",
      "0   34.623660  78.024693          0\n",
      "1   30.286711  43.894998          0\n",
      "2   35.847409  72.902198          0\n",
      "5   45.083277  56.316372          0\n",
      "10  95.861555  38.225278          0\n"
     ]
    }
   ],
   "source": [
    "positive = data[data['Admission'].isin([1])]\n",
    "negative = data[data['Admission'].isin([0])]\n",
    "print(positive.head())\n",
    "print('******************************************************')\n",
    "print(negative.head())"
   ]
  },
  {
   "cell_type": "markdown",
   "metadata": {},
   "source": [
    "**It is often useful to understand the data by visualizing it.**"
   ]
  },
  {
   "cell_type": "code",
   "execution_count": 4,
   "metadata": {
    "scrolled": false
   },
   "outputs": [
    {
     "data": {
      "text/plain": [
       "Text(0.5,1,'Scatter plot of training data')"
      ]
     },
     "execution_count": 4,
     "metadata": {},
     "output_type": "execute_result"
    },
    {
     "data": {
      "image/png": "[encoded data removed]",
      "text/plain": [
       "<Figure size 864x576 with 1 Axes>"
      ]
     },
     "metadata": {},
     "output_type": "display_data"
    }
   ],
   "source": [
    "figure,axes = plt.subplots(figsize= (12, 8))  \n",
    "axes.scatter(positive['Exam1'], positive['Exam2'],c = 'g', marker= 'o', label = 'Admitted')\n",
    "axes.scatter(negative['Exam1'], negative['Exam2'],c = 'r', marker= 'x', label = 'Not Admitted')\n",
    "axes.grid(True) #Displays the grid format in the plot\n",
    "axes.legend() #Displays the legend\n",
    "\n",
    "axes.set_xlabel('Exam 1 scores') \n",
    "axes.set_ylabel('Exam 2 scores')\n",
    "axes.set_title('Scatter plot of training data')"
   ]
  },
  {
   "cell_type": "markdown",
   "metadata": {},
   "source": [
    "## Cost Function\n",
    "### <center> $ J(\\Theta ) = \\frac{1}{m} \\sum_{i= 1}^{m}\\left [-y ^{(i)} log(h_{\\Theta}(x^{(i)}))- (1 - y ^{(i)}) log(1 - h_{\\Theta}(x^{(i)})) \\right ] $\n",
    "### <center> <small> where, $ h_{\\Theta}(X) = g(\\Theta^{T}X)$ \n",
    "### <center> <small> where, $ g(z) = \\frac{1}{1 + e^{-z}}$  (is a sigmoid function)"
   ]
  },
  {
   "cell_type": "code",
   "execution_count": 5,
   "metadata": {},
   "outputs": [],
   "source": [
    "def sigmoid(z):\n",
    "    g = 1 / (1 + np.exp(-z))\n",
    "    return g"
   ]
  },
  {
   "cell_type": "code",
   "execution_count": 6,
   "metadata": {},
   "outputs": [],
   "source": [
    "def hypothesis(theta, X):\n",
    "    theta = np.matrix(theta)\n",
    "    \n",
    "    z = X * theta.T\n",
    "    h = sigmoid(z)\n",
    "    \n",
    "    return h"
   ]
  },
  {
   "cell_type": "code",
   "execution_count": 7,
   "metadata": {},
   "outputs": [],
   "source": [
    "def costFunction(theta, X, y):\n",
    "    \n",
    "    # **************Initialization**************    \n",
    "    m = X.shape[0]\n",
    "    J = 0    \n",
    "    \n",
    "    # ***************Hypothesis*****************    \n",
    "    h_theta_x = hypothesis(theta, X)\n",
    "    \n",
    "    # *************Cost Function****************\n",
    "    \n",
    "            # np.multiply for elementwise matrix multiplication\n",
    "    J = J + np.sum(np.multiply(-y, np.log(h_theta_x)) - np.multiply((1 - y),np.log(1 - h_theta_x)))      \n",
    "    J = (1/m) * J\n",
    "                           \n",
    "    return J"
   ]
  },
  {
   "cell_type": "markdown",
   "metadata": {},
   "source": [
    "**We add a column of ones to the training data so that we can use a Vectorized solution in computing Cost Function and Gradient.**\n",
    "\n"
   ]
  },
  {
   "cell_type": "code",
   "execution_count": 8,
   "metadata": {},
   "outputs": [
    {
     "name": "stdout",
     "output_type": "stream",
     "text": [
      "   Ones      Exam1      Exam2\n",
      "0     1  34.623660  78.024693\n",
      "1     1  30.286711  43.894998\n",
      "2     1  35.847409  72.902198\n",
      "3     1  60.182599  86.308552\n",
      "4     1  79.032736  75.344376\n",
      "******************************************************\n",
      "   Admission\n",
      "0          0\n",
      "1          0\n",
      "2          0\n",
      "3          1\n",
      "4          1\n"
     ]
    }
   ],
   "source": [
    "data.insert(0, 'Ones',1)\n",
    "cols = data.shape[1]\n",
    "\n",
    "X = data.iloc[:, 0:cols-1]\n",
    "y = data.iloc[:, cols-1:cols]\n",
    "print(X.head())\n",
    "print('******************************************************')\n",
    "print(y.head())"
   ]
  },
  {
   "cell_type": "code",
   "execution_count": 9,
   "metadata": {},
   "outputs": [],
   "source": [
    "X = np.matrix(X.values)\n",
    "y = np.matrix(y.values)\n",
    "theta = np.array([0,0,0])"
   ]
  },
  {
   "cell_type": "code",
   "execution_count": 10,
   "metadata": {},
   "outputs": [
    {
     "data": {
      "text/plain": [
       "((100, 3), (100, 1), (3,))"
      ]
     },
     "execution_count": 10,
     "metadata": {},
     "output_type": "execute_result"
    }
   ],
   "source": [
    "X.shape, y.shape, theta.shape"
   ]
  },
  {
   "cell_type": "markdown",
   "metadata": {},
   "source": [
    "## Gradient \n",
    "\n",
    "### <center> $\\frac{\\partial J(\\Theta)}{\\partial \\Theta_{j}} =  \\frac{1}{m}\\sum_{i=1}^{m} (h_{\\Theta}(x^{(i)}) - y^{(i)})x_{j}^{(i)}$"
   ]
  },
  {
   "cell_type": "code",
   "execution_count": 11,
   "metadata": {},
   "outputs": [],
   "source": [
    "def gradientFunction(theta, X, y):\n",
    "       \n",
    "    # **************Initialization**************    \n",
    "    m = X.shape[0]\n",
    "    grad = np.matrix(np.zeros(theta.shape))\n",
    "    \n",
    "    # ***************Hypothesis*****************    \n",
    "    h_theta_x = hypothesis(theta, X)   \n",
    "    \n",
    "    # *************Gradient********************\n",
    "    error = h_theta_x - y;\n",
    "    grad = (1/m) * np.sum(np.multiply(error, X), axis = 0) # axis= 0 implies operations on columns\n",
    "                       \n",
    "    return grad"
   ]
  },
  {
   "cell_type": "code",
   "execution_count": 12,
   "metadata": {},
   "outputs": [
    {
     "data": {
      "text/plain": [
       "matrix([[ -0.1       , -12.00921659, -11.26284221]])"
      ]
     },
     "execution_count": 12,
     "metadata": {},
     "output_type": "execute_result"
    }
   ],
   "source": [
    "gradientFunction(theta, X, y)"
   ]
  },
  {
   "cell_type": "code",
   "execution_count": 13,
   "metadata": {},
   "outputs": [
    {
     "data": {
      "text/plain": [
       "array([-25.16131855,   0.20623159,   0.20147149])"
      ]
     },
     "execution_count": 13,
     "metadata": {},
     "output_type": "execute_result"
    }
   ],
   "source": [
    "import scipy.optimize as opt\n",
    "\n",
    "#      x - optimized theta values\n",
    "# nfeval - number of function evaluations\n",
    "#     rc - return code\n",
    "\n",
    "x, nfeval, rc = opt.fmin_tnc(func=costFunction, x0=theta, fprime=gradientFunction, args=(X, y))\n",
    "trained_theta = x\n",
    "trained_theta"
   ]
  },
  {
   "cell_type": "code",
   "execution_count": 14,
   "metadata": {},
   "outputs": [
    {
     "name": "stdout",
     "output_type": "stream",
     "text": [
      "  Cost: with initial theta values =  0.6931471805599453\n",
      "Cost: with optimized theta values =  0.20349770158947486\n"
     ]
    }
   ],
   "source": [
    "initial_cost = costFunction(theta, X, y)\n",
    "print('  Cost: with initial theta values = ', initial_cost)\n",
    "minimised_cost = costFunction(trained_theta, X, y)\n",
    "print('Cost: with optimized theta values = ', minimised_cost)"
   ]
  },
  {
   "cell_type": "code",
   "execution_count": 15,
   "metadata": {},
   "outputs": [],
   "source": [
    "def predict(theta, X):\n",
    "    # **************Initialization**************\n",
    "    m = X.shape[0]\n",
    "    prediction = np.zeros(y.shape)\n",
    "    \n",
    "    # ****************Hypothesis****************\n",
    "    h_theta_x = hypothesis(theta, X)\n",
    "    \n",
    "    # ****************Prediction****************\n",
    "    for i in range(m):\n",
    "        if h_theta_x[i] < 0.5:\n",
    "            prediction[i] = 0\n",
    "        else:\n",
    "            prediction[i] = 1\n",
    "    \n",
    "    return prediction"
   ]
  },
  {
   "cell_type": "code",
   "execution_count": 16,
   "metadata": {},
   "outputs": [
    {
     "name": "stdout",
     "output_type": "stream",
     "text": [
      "Prediction the admission probability for  a  student  with  an Exam  1  score of  45  and  an  Exam  2  score  of  85\n",
      "Admission Probability =  0.7762906222668583\n"
     ]
    }
   ],
   "source": [
    "print('Prediction the admission probability for  a  student  with  an Exam  1  score of  45  and  an  Exam  2  score  of  85')\n",
    "examScores = np.matrix([1, 45, 85])\n",
    "our_prediction = hypothesis(trained_theta, examScores)\n",
    "print('Admission Probability = ', our_prediction[0,0])\n"
   ]
  },
  {
   "cell_type": "markdown",
   "metadata": {},
   "source": [
    "### Plot Decision Boundary"
   ]
  },
  {
   "cell_type": "code",
   "execution_count": 17,
   "metadata": {},
   "outputs": [
    {
     "data": {
      "text/plain": [
       "<matplotlib.legend.Legend at 0x7f1956a905c0>"
      ]
     },
     "execution_count": 17,
     "metadata": {},
     "output_type": "execute_result"
    },
    {
     "data": {
      "image/png": "[encoded data removed]",
      "text/plain": [
       "<Figure size 864x576 with 1 Axes>"
      ]
     },
     "metadata": {},
     "output_type": "display_data"
    }
   ],
   "source": [
    "figure,axes = plt.subplots(figsize= (12, 8))  \n",
    "axes.scatter(positive['Exam1'], positive['Exam2'],c = 'g', marker= 'o', label = 'Admitted')\n",
    "axes.scatter(negative['Exam1'], negative['Exam2'],c = 'r', marker= 'x', label = 'Not Admitted')\n",
    "axes.grid(True) #Displays the grid format in the plot\n",
    "\n",
    "axes.set_xlabel('Exam 1 scores') \n",
    "axes.set_ylabel('Exam 2 scores')\n",
    "axes.set_title('Scatter plot of training data')\n",
    "\n",
    "#****************Plot Decision Boundary *********************\n",
    "X_data = np.array(X[:,1:2]).ravel()\n",
    "\n",
    "plot_x = X_data\n",
    "plot_y = np.multiply((-1./trained_theta[2]),(np.multiply(trained_theta[1],plot_x) + trained_theta[0]))\n",
    "\n",
    "axes.plot(plot_x, plot_y, label = 'Boundary')\n",
    "\n",
    "axes.legend() #Displays the legend"
   ]
  },
  {
   "cell_type": "markdown",
   "metadata": {},
   "source": [
    "## Logistic Regression using Scikit- learn"
   ]
  },
  {
   "cell_type": "code",
   "execution_count": 18,
   "metadata": {},
   "outputs": [
    {
     "data": {
      "text/plain": [
       "LogisticRegression(C=1.0, class_weight=None, dual=False, fit_intercept=True,\n",
       "          intercept_scaling=1, max_iter=100, multi_class='ovr', n_jobs=1,\n",
       "          penalty='l2', random_state=None, solver='liblinear', tol=0.0001,\n",
       "          verbose=0, warm_start=False)"
      ]
     },
     "execution_count": 18,
     "metadata": {},
     "output_type": "execute_result"
    }
   ],
   "source": [
    "from sklearn import linear_model\n",
    "\n",
    "regr = linear_model.LogisticRegression()\n",
    "y = np.array(y).ravel() \n",
    "regr.fit(X[:,1:2], y)  # Train the model using the training sets"
   ]
  },
  {
   "cell_type": "code",
   "execution_count": 19,
   "metadata": {},
   "outputs": [],
   "source": [
    "y_pred = predict(trained_theta, X)\n",
    "sci_pred = regr.predict(X[:,1:2])"
   ]
  },
  {
   "cell_type": "code",
   "execution_count": 20,
   "metadata": {},
   "outputs": [
    {
     "name": "stdout",
     "output_type": "stream",
     "text": [
      "  Our model : Accuracy = 89.0 %\n",
      "scikit-learn :Accuracy = 80.0 %\n"
     ]
    }
   ],
   "source": [
    "accuracy = np.mean(np.double(y_pred == y)) * 100\n",
    "print('  Our model : Accuracy = {0} %'.format(accuracy))\n",
    "sci_accuracy = np.mean(np.double(sci_pred == y)) * 100\n",
    "print('scikit-learn :Accuracy = {0} %'.format(sci_accuracy))"
   ]
  }
 ],
 "metadata": {
  "kernelspec": {
   "display_name": "Python 3",
   "language": "python",
   "name": "python3"
  },
  "language_info": {
   "codemirror_mode": {
    "name": "ipython",
    "version": 3
   },
   "file_extension": ".py",
   "mimetype": "text/x-python",
   "name": "python",
   "nbconvert_exporter": "python",
   "pygments_lexer": "ipython3",
   "version": "3.6.5"
  }
 },
 "nbformat": 4,
 "nbformat_minor": 2
}
